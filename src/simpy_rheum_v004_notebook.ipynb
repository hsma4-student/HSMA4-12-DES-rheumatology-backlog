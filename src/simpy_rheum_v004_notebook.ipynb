{
 "cells": [
  {
   "cell_type": "markdown",
   "metadata": {},
   "source": [
    "### DES-Rheumatology notebook\n",
    "\n",
    "Similar to `simpy_rheum_v004_run.py` but in notebook format for easier exploration."
   ]
  },
  {
   "cell_type": "code",
   "execution_count": null,
   "metadata": {},
   "outputs": [],
   "source": [
    "%cd .."
   ]
  },
  {
   "cell_type": "markdown",
   "metadata": {},
   "source": [
    "#### Import libraries"
   ]
  },
  {
   "cell_type": "code",
   "execution_count": null,
   "metadata": {},
   "outputs": [],
   "source": [
    "import warnings\n",
    "warnings.simplefilter(action='ignore', category=FutureWarning)\n",
    "import simpy_rheum_v004 as rheum\n",
    "import numpy as np\n",
    "from datetime import datetime\n",
    "import os\n",
    "import csv\n",
    "import random\n",
    "\n",
    "import src.Batch_rheum_Model as rheum\n",
    "from src.helpers import Trial_Results_initiate\n",
    "from src.initialisers import g\n"
   ]
  },
  {
   "cell_type": "markdown",
   "metadata": {},
   "source": [
    "#### Config and initialisation"
   ]
  },
  {
   "cell_type": "code",
   "execution_count": null,
   "metadata": {},
   "outputs": [],
   "source": [
    "random.seed(9001)\n",
    "\n",
    "scriptrun_flag = True # True to save each log line by line (more efficient)\n",
    "reps=2 # Number of model replications | Baseline: 30 replications\n",
    "outputdir = \"outputs/\"\n",
    "savepath = 'out_sand2/'\n",
    "savepath = outputdir + savepath\n",
    "start=datetime.now()\n",
    "file1 = savepath + 'patient_result2.csv'\n",
    "file2 = savepath + 'appt_result.csv'\n",
    "file3 = savepath + 'batch_mon_audit_ls.csv'\n",
    "#file4 = savepath + 'batch_kpis.csv'\n",
    "\n",
    "# Check whether the specified output dir exists or not ##\n",
    "isExist = os.path.exists(outputdir)\n",
    "if not isExist:\n",
    "  # Create a new directory because it does not exist \n",
    "  os.makedirs(outputdir)\n",
    "  print(\"The new Output directory is created!\")\n",
    "\n",
    "# Check whether the specified path exists or not\n",
    "isExist = os.path.exists(savepath)\n",
    "if not isExist:\n",
    "  # Create a new directory because it does not exist \n",
    "  os.makedirs(savepath)\n",
    "  print(\"The new directory is created!\")\n",
    "\n",
    "Trial_Results_initiate(file1,file2,file3)\n",
    "\n",
    "# Create a file to store trial results, and write the column headers\n",
    "with open(savepath + \"trial_results.csv\", \"w\") as f:\n",
    "    writer = csv.writer(f, delimiter=\",\")\n",
    "    column_headers = [\"Run\", \"Mean_Q_Time_FOPA\",\n",
    "                      \"Mean_Q_Time_FUOPA\",\n",
    "                      \"Mean_Q_Time_Total\"]\n",
    "    writer.writerow(column_headers)"
   ]
  },
  {
   "cell_type": "markdown",
   "metadata": {},
   "source": [
    "#### Run"
   ]
  },
  {
   "cell_type": "code",
   "execution_count": null,
   "metadata": {},
   "outputs": [],
   "source": [
    "if scriptrun_flag:\n",
    "                \n",
    "    intarr = 1/6 # Inter-arrival rate (in days) | Baseline: 1/6 days, i.e. 6 per day\n",
    "    in_path_horizon_y=3 # Patient follow-up horizon, simplification on how long each non first-only pathway lasts (years) | Baseline: 3\n",
    "    \n",
    "    #in_prob_pifu = 0\n",
    "    in_prob_pifu = 0.2 # PIFU proportion - probability of PIFU pathway for non first-only pathways | Baseline: 0 | Scenarios: 0.1,0.2,0.3,0.5\n",
    "    \n",
    "    in_FOavoidable = 0 # A&G proportion - proportion of first-only pathways avoidable via A&G | Baseline: 0 | Scenario: 0.43\n",
    "    #in_FOavoidable = 0.43\n",
    "    \n",
    "    in_interfu_perc = 0.6 # Percentage increase in inter-appointment interval with PIFU (vs traditional), i.e. 0.6 means 60% longer interval | Baseline: 0.6 | Scenarios: 0.6, 0.2\n",
    "    #in_interfu_perc = 0.2 # More conservative. Used in scenario C\n",
    "    \n",
    "    g_defaults = g()\n",
    "    audit_interval = 28 # audit timepoint (in simulation days)\n",
    "    \n",
    "    cap  = 1/intarr * ((2 + in_path_horizon_y / g_defaults.mean_interOPA *365) * (1-g_defaults.prob_firstonly) + 2 * g_defaults.prob_firstonly)# * Heuristic of daily slots (365 days) needed to deal with steady-state model demand\n",
    "    cap_diff = 0 # Increment or decrement in daily slots to be applied to the heuristic | Baseline: 0\n",
    "    \n",
    "    # Set up constructor instance\n",
    "    my_batch_model = rheum.Batch_rheum_model(in_res=np.round(cap,0) + cap_diff,\n",
    "                                             in_inter_arrival=intarr,\n",
    "                                             in_prob_pifu=in_prob_pifu,\n",
    "                                             in_path_horizon_y=in_path_horizon_y,\n",
    "                                             audit_interval=audit_interval,\n",
    "                                             in_savepath = savepath,\n",
    "                                             in_FOavoidable = in_FOavoidable,\n",
    "                                             in_interfu_perc=in_interfu_perc)\n",
    "    \n",
    "    # Run model\n",
    "    fig_audit_reps, chart_output_lastrep, text_output_lastrep, quant_output_lastrep, fig_q_audit_reps,fig_monappKPI_reps, fig_monappKPIn_reps = my_batch_model.run_reps(reps=reps)\n",
    "    "
   ]
  },
  {
   "cell_type": "markdown",
   "metadata": {},
   "source": [
    "#### Outputs"
   ]
  },
  {
   "cell_type": "code",
   "execution_count": null,
   "metadata": {},
   "outputs": [],
   "source": [
    "# =============================================================================  \n",
    "    \n",
    "# Some output KPIs generated and printed\n",
    "#my_batch_model.headline_KPI(365)    \n",
    "#mydf = my_batch_model.headline_KPI(365)    \n",
    "#my_batch_model.save_logs()           \n",
    "print(my_batch_model.batch_kpi)\n",
    "\n",
    "# Model performance - time       \n",
    "scenario2run = datetime.now()-start\n",
    "print(f\"Overall run-time of {scenario2run}\") "
   ]
  }
 ],
 "metadata": {
  "kernelspec": {
   "display_name": "venvpa",
   "language": "python",
   "name": "python3"
  },
  "language_info": {
   "codemirror_mode": {
    "name": "ipython",
    "version": 3
   },
   "file_extension": ".py",
   "mimetype": "text/x-python",
   "name": "python",
   "nbconvert_exporter": "python",
   "pygments_lexer": "ipython3",
   "version": "3.9.0"
  }
 },
 "nbformat": 4,
 "nbformat_minor": 2
}
